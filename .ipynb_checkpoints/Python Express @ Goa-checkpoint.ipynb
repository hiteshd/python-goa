{
 "metadata": {
  "name": "",
  "signature": "sha256:f2ba7c98fcd199ce2df63be53d93e9f83f76b528a8bbc5dd34672b048271f321"
 },
 "nbformat": 3,
 "nbformat_minor": 0,
 "worksheets": [
  {
   "cells": [
    {
     "cell_type": "code",
     "collapsed": true,
     "input": [
      "print \"Hello World!\""
     ],
     "language": "python",
     "metadata": {},
     "outputs": [
      {
       "output_type": "stream",
       "stream": "stdout",
       "text": [
        "Hello World!\n"
       ]
      }
     ],
     "prompt_number": 13
    },
    {
     "cell_type": "code",
     "collapsed": true,
     "input": [],
     "language": "python",
     "metadata": {},
     "outputs": [],
     "prompt_number": 13
    },
    {
     "cell_type": "code",
     "collapsed": true,
     "input": [
      "language = \"Python 2\"\n",
      "location = \"Goa University\"\n",
      "duration = \"40\"\n",
      "print \"Welcome to the %s workshop at %s\" % (language, location)\n",
      "print \"This workshop will last %s minutes\" % (duration,)\n",
      "\n",
      "print \"Enough of printing\", language\n"
     ],
     "language": "python",
     "metadata": {},
     "outputs": [
      {
       "output_type": "stream",
       "stream": "stdout",
       "text": [
        "Welcome to the Python 2 workshop at Goa University\n",
        "This workshop will last 40 minutes\n",
        "Enough of printing Python 2\n"
       ]
      }
     ],
     "prompt_number": 14
    },
    {
     "cell_type": "code",
     "collapsed": true,
     "input": [
      "# The `type` function\n",
      "print \"Type of 1 is \", type(1)\n",
      "print \"Type of 'a' is \", type('a')\n",
      "print \"Type of 1.5 is \", type(1.5)"
     ],
     "language": "python",
     "metadata": {},
     "outputs": [
      {
       "output_type": "stream",
       "stream": "stdout",
       "text": [
        "Type of 1 is  <type 'int'>\n",
        "Type of 'a' is  <type 'str'>\n",
        "Type of 1.5 is  <type 'float'>\n"
       ]
      }
     ],
     "prompt_number": 15
    },
    {
     "cell_type": "code",
     "collapsed": true,
     "input": [
      "a = 1\n",
      "type(a)"
     ],
     "language": "python",
     "metadata": {},
     "outputs": [
      {
       "metadata": {},
       "output_type": "pyout",
       "prompt_number": 16,
       "text": [
        "int"
       ]
      }
     ],
     "prompt_number": 16
    },
    {
     "cell_type": "code",
     "collapsed": true,
     "input": [
      "a = 'hello'\n",
      "type(a)"
     ],
     "language": "python",
     "metadata": {},
     "outputs": [
      {
       "metadata": {},
       "output_type": "pyout",
       "prompt_number": 17,
       "text": [
        "str"
       ]
      }
     ],
     "prompt_number": 17
    },
    {
     "cell_type": "code",
     "collapsed": true,
     "input": [
      "print \"a is now \", a"
     ],
     "language": "python",
     "metadata": {},
     "outputs": [
      {
       "output_type": "stream",
       "stream": "stdout",
       "text": [
        "a is now  hello\n"
       ]
      }
     ],
     "prompt_number": 18
    },
    {
     "cell_type": "code",
     "collapsed": true,
     "input": [
      "# Basic Types\n",
      "variable_name = type\n",
      "\n",
      "no_of_chocolates_per_day = 1\n",
      "fav_color = \"green\"\n",
      "\n",
      "print \"Type of `no_of_chocolates_per_day` is \", type(no_of_chocolates_per_day)\n",
      "print \"Type of `fav_color` is \", type(fav_color)"
     ],
     "language": "python",
     "metadata": {},
     "outputs": [
      {
       "output_type": "stream",
       "stream": "stdout",
       "text": [
        "Type of `no_of_chocolates_per_day` is  <type 'int'>\n",
        "Type of `fav_color` is  <type 'str'>\n"
       ]
      }
     ],
     "prompt_number": 19
    },
    {
     "cell_type": "code",
     "collapsed": true,
     "input": [
      "super(int)"
     ],
     "language": "python",
     "metadata": {},
     "outputs": [
      {
       "metadata": {},
       "output_type": "pyout",
       "prompt_number": 20,
       "text": [
        "<super: int, None>"
       ]
      }
     ],
     "prompt_number": 20
    },
    {
     "cell_type": "code",
     "collapsed": true,
     "input": [
      "# String Operations\n",
      "\n",
      "s = \"Lorem Ipsum is a placeholder text\"\n",
      "print \"lowercase: \", s.lower()\n",
      "words = s.split(' ')\n",
      "print \"Type of words variable is\", type(words)\n",
      "print \"\"\n",
      "for word in words:\n",
      "    if word == 'is':\n",
      "        print \"Found `is`\"\n"
     ],
     "language": "python",
     "metadata": {},
     "outputs": [
      {
       "output_type": "stream",
       "stream": "stdout",
       "text": [
        "lowercase:  lorem ipsum is a placeholder text\n",
        "Type of words variable is <type 'list'>\n",
        "\n",
        "Found `is`\n"
       ]
      }
     ],
     "prompt_number": 41
    },
    {
     "cell_type": "code",
     "collapsed": true,
     "input": [
      "# The List Type\n",
      "# Think of it as an Arrary in C\n",
      "a = [1, 2 ,3]\n",
      "\n",
      "print type(a)"
     ],
     "language": "python",
     "metadata": {},
     "outputs": [
      {
       "output_type": "stream",
       "stream": "stdout",
       "text": [
        "<type 'list'>\n"
       ]
      }
     ],
     "prompt_number": 21
    },
    {
     "cell_type": "code",
     "collapsed": true,
     "input": [
      "# The Set Type\n",
      "# Array without duplicates\n",
      "a = {1, 2, 3}\n",
      "print type(a)"
     ],
     "language": "python",
     "metadata": {},
     "outputs": [
      {
       "output_type": "stream",
       "stream": "stdout",
       "text": [
        "<type 'set'>\n"
       ]
      }
     ],
     "prompt_number": 22
    },
    {
     "cell_type": "code",
     "collapsed": true,
     "input": [
      "# Key Value Pairs. Keys are always unique\n",
      "a = {'ram': 23, 'john': '24'}\n",
      "print a\n",
      "print \"Correcting Ram's Age\"\n",
      "a['ram'] = 19\n",
      "print a\n",
      "print \"Setting age of sita\"\n",
      "a['sita'] = 23\n",
      "print a\n",
      "type(a)"
     ],
     "language": "python",
     "metadata": {},
     "outputs": [
      {
       "output_type": "stream",
       "stream": "stdout",
       "text": [
        "{'john': '24', 'ram': 23}\n",
        "Correcting Ram's Age\n",
        "{'john': '24', 'ram': 19}\n",
        "Setting age of sita\n",
        "{'john': '24', 'ram': 19, 'sita': 23}\n"
       ]
      },
      {
       "metadata": {},
       "output_type": "pyout",
       "prompt_number": 23,
       "text": [
        "dict"
       ]
      }
     ],
     "prompt_number": 23
    },
    {
     "cell_type": "code",
     "collapsed": true,
     "input": [
      "a.get('john')"
     ],
     "language": "python",
     "metadata": {},
     "outputs": [
      {
       "metadata": {},
       "output_type": "pyout",
       "prompt_number": 24,
       "text": [
        "'24'"
       ]
      }
     ],
     "prompt_number": 24
    },
    {
     "cell_type": "code",
     "collapsed": true,
     "input": [
      "print a.get('hitesh')"
     ],
     "language": "python",
     "metadata": {},
     "outputs": [
      {
       "output_type": "stream",
       "stream": "stdout",
       "text": [
        "None\n"
       ]
      }
     ],
     "prompt_number": 25
    },
    {
     "cell_type": "code",
     "collapsed": true,
     "input": [
      "# Tuples\n",
      "# Pairs of Elements\n",
      "\n",
      "#   name, age, semester\n",
      "a = ('Rahul','23','4')\n",
      "print a[0]\n",
      "print a[1]\n",
      "\n"
     ],
     "language": "python",
     "metadata": {},
     "outputs": [
      {
       "output_type": "stream",
       "stream": "stdout",
       "text": [
        "Rahul\n",
        "23\n"
       ]
      }
     ],
     "prompt_number": 26
    },
    {
     "cell_type": "code",
     "collapsed": true,
     "input": [
      "# Tuples can also be put inside of lists\n",
      "# i.e. a list of tupes\n",
      "\n",
      "students = [ ('Rahul', 23, 4), ('John',22, 3) ]\n",
      "\n",
      "# First Element in List students\n",
      "print students[0]\n",
      "# First elemet from first tuple in list students\n",
      "print students[0][0]\n"
     ],
     "language": "python",
     "metadata": {},
     "outputs": [
      {
       "output_type": "stream",
       "stream": "stdout",
       "text": [
        "('Rahul', 23, 4)\n",
        "Rahul\n"
       ]
      }
     ],
     "prompt_number": 27
    },
    {
     "cell_type": "code",
     "collapsed": true,
     "input": [
      "# Functions\n",
      "\n",
      "def hello():\n",
      "    print \"I am going to just say hello\"\n",
      "\n",
      "hello()"
     ],
     "language": "python",
     "metadata": {},
     "outputs": [
      {
       "output_type": "stream",
       "stream": "stdout",
       "text": [
        "I am going to just say hello\n"
       ]
      }
     ],
     "prompt_number": 28
    },
    {
     "cell_type": "code",
     "collapsed": true,
     "input": [
      "\"\"\"\n",
      "# def function_name(args):\n",
      "    function body\n",
      "    \n",
      "    <return optional>\n",
      "\"\"\"\n",
      "def hello_by_name(hello_name):\n",
      "    print \"Hey\", hello_name, \"Welcome to Python2\"\n",
      "    \n",
      "hello_by_name('Hitesh')"
     ],
     "language": "python",
     "metadata": {},
     "outputs": [
      {
       "output_type": "stream",
       "stream": "stdout",
       "text": [
        "Hey Hitesh Welcome to Python2\n"
       ]
      }
     ],
     "prompt_number": 29
    },
    {
     "cell_type": "code",
     "collapsed": true,
     "input": [
      "hello_by_name"
     ],
     "language": "python",
     "metadata": {},
     "outputs": [
      {
       "metadata": {},
       "output_type": "pyout",
       "prompt_number": 30,
       "text": [
        "<function __main__.hello_by_name>"
       ]
      }
     ],
     "prompt_number": 30
    },
    {
     "cell_type": "code",
     "collapsed": true,
     "input": [
      "hello_by_name(22)"
     ],
     "language": "python",
     "metadata": {},
     "outputs": [
      {
       "output_type": "stream",
       "stream": "stdout",
       "text": [
        "Hey 22 Welcome to Python2\n"
       ]
      }
     ],
     "prompt_number": 31
    },
    {
     "cell_type": "code",
     "collapsed": true,
     "input": [
      "# Function with default values for arguments\n",
      "def make_string_short(some_string, length=5):\n",
      "    short_string = some_string[:length]\n",
      "    return short_string\n",
      "\n",
      "print make_string_short('wordpress')\n",
      "print make_string_short('wordpress', 4)\n",
      "\n",
      "\n"
     ],
     "language": "python",
     "metadata": {},
     "outputs": [
      {
       "output_type": "stream",
       "stream": "stdout",
       "text": [
        "wordp\n",
        "word\n"
       ]
      }
     ],
     "prompt_number": 35
    },
    {
     "cell_type": "code",
     "collapsed": true,
     "input": [
      "# Classes\n",
      "\n",
      "class Car:\n",
      "    \n",
      "    def __init__(self, name, color):\n",
      "        self.name = name\n",
      "        self.color = color\n",
      "\n",
      "my_car = Car('Honda Jazz','Black')\n",
      "print \"My \", my_car.name, my_car.color"
     ],
     "language": "python",
     "metadata": {},
     "outputs": [
      {
       "output_type": "stream",
       "stream": "stdout",
       "text": [
        "My  Honda Jazz Black\n"
       ]
      }
     ],
     "prompt_number": 47
    },
    {
     "cell_type": "code",
     "collapsed": true,
     "input": [
      "\n",
      "class Car:\n",
      "    \n",
      "    def __init__(self, name, color, top_speed=60):\n",
      "        self.name = name\n",
      "        self.color = color\n",
      "        self.top_speed = top_speed\n",
      "        self.current_speed = 0\n",
      "        \n",
      "    def accelerate(self):\n",
      "        if self.current_speed > self.top_speed:\n",
      "            print \"You need to slow down\"\n",
      "        else:\n",
      "            self.current_speed = self.current_speed + 15\n",
      "            print \"You are now travelling at\", self.current_speed, \"Kmph\"\n",
      "\n",
      "my_car = Car('Maruti 800','While')\n",
      "\n",
      "my_car.accelerate()\n",
      "my_car.accelerate()\n",
      "my_car.accelerate()\n",
      "my_car.accelerate()\n",
      "my_car.accelerate()\n",
      "\n",
      "my_car.accelerate()\n",
      "my_car.accelerate()"
     ],
     "language": "python",
     "metadata": {},
     "outputs": [
      {
       "output_type": "stream",
       "stream": "stdout",
       "text": [
        "You are now travelling at 15 Kmph\n",
        "You are now travelling at 30 Kmph\n",
        "You are now travelling at 45 Kmph\n",
        "Saw the meter, We are at  45 Kmph. 15 more to go\n",
        "You are now travelling at 60 Kmph\n",
        "You are now travelling at 75 Kmph\n",
        "You need to slow down\n",
        "You need to slow down\n"
       ]
      }
     ],
     "prompt_number": 57
    },
    {
     "cell_type": "code",
     "collapsed": true,
     "input": [
      "\n",
      "class Car:\n",
      "    \n",
      "    def __init__(self, name, color, top_speed=60):\n",
      "        self.name = name\n",
      "        self.color = color\n",
      "        self.top_speed = top_speed\n",
      "        self.current_speed = 0\n",
      "        \n",
      "    def check_speedometer(self):\n",
      "        margin = self.top_speed - self.current_speed\n",
      "        if margin > 0:\n",
      "            print \"You can go %s Kmph Faster\" % margin\n",
      "        else:\n",
      "            print \"Look at the road\"\n",
      "        \n",
      "    def accelerate(self):\n",
      "        if self.current_speed > self.top_speed:\n",
      "            print \"You need to slow down\"\n",
      "        else:\n",
      "            self.current_speed = self.current_speed + 15\n",
      "            print \"You are now travelling at\", self.current_speed, \"Kmph\"\n",
      "\n",
      "my_car = Car('Maruti 800','While')\n",
      "\n",
      "my_car.accelerate()\n",
      "my_car.accelerate()\n",
      "my_car.accelerate()\n",
      "my_car.check_speedometer()\n",
      "my_car.accelerate()\n",
      "my_car.accelerate()\n",
      "my_car.check_speedometer()\n",
      "my_car.accelerate()\n",
      "my_car.accelerate()"
     ],
     "language": "python",
     "metadata": {},
     "outputs": [
      {
       "output_type": "stream",
       "stream": "stdout",
       "text": [
        "You are now travelling at 15 Kmph\n",
        "You are now travelling at 30 Kmph\n",
        "You are now travelling at 45 Kmph\n",
        "You can go 15 Kmph Faster\n",
        "You are now travelling at 60 Kmph\n",
        "You are now travelling at 75 Kmph\n",
        "Look at the road\n",
        "You need to slow down\n",
        "You need to slow down\n"
       ]
      }
     ],
     "prompt_number": 59
    },
    {
     "cell_type": "code",
     "collapsed": true,
     "input": [
      "\n",
      "class Car:\n",
      "    \n",
      "    def __init__(self, name, color, top_speed=60):\n",
      "        self.name = name\n",
      "        self.color = color\n",
      "        self.top_speed = top_speed\n",
      "        self.current_speed = 0\n",
      "        \n",
      "    def check_speedometer(self):\n",
      "        margin = self.top_speed - self.current_speed\n",
      "        if margin > 0:\n",
      "            print \"%s can go %s Kmph Faster\" % (self.name, margin)\n",
      "        else:\n",
      "            print \"Look at the road %s\" % self.name\n",
      "        \n",
      "    def accelerate(self):\n",
      "        if self.current_speed > self.top_speed:\n",
      "            print \"%s needs to slow down\" % self.name\n",
      "        else:\n",
      "            self.current_speed = self.current_speed + 15\n",
      "            print \"%s is now travelling at %s Kmph\" % (self.name, self.current_speed)\n",
      "\n",
      "car1 = Car('Maruti 800','White')\n",
      "car2 = Car('Maruti Swift','Red', 70)\n",
      "car3 = Car('Honda City','Black', 120)\n",
      "\n",
      "car1.accelerate()\n",
      "car2.accelerate()\n",
      "car3.accelerate()\n",
      "car2.check_speedometer()\n",
      "car3.accelerate()\n",
      "car2.accelerate()\n",
      "car3.check_speedometer()\n",
      "car1.accelerate()\n",
      "car1.accelerate()\n",
      "car1.accelerate()\n",
      "car2.accelerate()\n",
      "car3.accelerate()\n",
      "car2.check_speedometer()\n",
      "car3.accelerate()\n",
      "car2.accelerate()\n",
      "car2.check_speedometer()\n",
      "car1.accelerate()\n",
      "car1.accelerate()"
     ],
     "language": "python",
     "metadata": {},
     "outputs": [
      {
       "output_type": "stream",
       "stream": "stdout",
       "text": [
        "Maruti 800 is now travelling at 15 Kmph\n",
        "Maruti Swift is now travelling at 15 Kmph\n",
        "Honda City is now travelling at 15 Kmph\n",
        "Maruti Swift can go 55 Kmph Faster\n",
        "Honda City is now travelling at 30 Kmph\n",
        "Maruti Swift is now travelling at 30 Kmph\n",
        "Honda City can go 90 Kmph Faster\n",
        "Maruti 800 is now travelling at 30 Kmph\n",
        "Maruti 800 is now travelling at 45 Kmph\n",
        "Maruti 800 is now travelling at 60 Kmph\n",
        "Maruti Swift is now travelling at 45 Kmph\n",
        "Honda City is now travelling at 45 Kmph\n",
        "Maruti Swift can go 25 Kmph Faster\n",
        "Honda City is now travelling at 60 Kmph\n",
        "Maruti Swift is now travelling at 60 Kmph\n",
        "Maruti Swift can go 10 Kmph Faster\n",
        "Maruti 800 is now travelling at 75 Kmph\n",
        "Maruti 800 needs to slow down\n"
       ]
      }
     ],
     "prompt_number": 73
    },
    {
     "cell_type": "code",
     "collapsed": true,
     "input": [],
     "language": "python",
     "metadata": {},
     "outputs": []
    }
   ],
   "metadata": {}
  }
 ]
}