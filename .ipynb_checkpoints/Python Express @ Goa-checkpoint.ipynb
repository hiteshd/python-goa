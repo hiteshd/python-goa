{
 "metadata": {
  "name": "",
  "signature": "sha256:a2da2c42993e86508f8b21d16995f19a5ac4f49590983f1aee66fec5133ced1d"
 },
 "nbformat": 3,
 "nbformat_minor": 0,
 "worksheets": [
  {
   "cells": [
    {
     "cell_type": "code",
     "collapsed": true,
     "input": [
      "print \"Hello World!\""
     ],
     "language": "python",
     "metadata": {},
     "outputs": [
      {
       "output_type": "stream",
       "stream": "stdout",
       "text": [
        "Hello World!\n"
       ]
      }
     ],
     "prompt_number": 2
    },
    {
     "cell_type": "code",
     "collapsed": false,
     "input": [
      "print \"Hello\", \"World\", \"with\", \"spaces\""
     ],
     "language": "python",
     "metadata": {},
     "outputs": [
      {
       "output_type": "stream",
       "stream": "stdout",
       "text": [
        "Hello World with spaces\n"
       ]
      }
     ],
     "prompt_number": 6
    },
    {
     "cell_type": "code",
     "collapsed": true,
     "input": [
      "language = \"Python 2\"\n",
      "location = \"Goa University\"\n",
      "duration = \"40\"\n",
      "print \"Welcome to the %s workshop at %s\" % (language, location)\n",
      "print \"This workshop will last %s minutes\" % (duration,)\n",
      "\n",
      "print \"Enough of printing\", language\n"
     ],
     "language": "python",
     "metadata": {},
     "outputs": []
    },
    {
     "cell_type": "code",
     "collapsed": true,
     "input": [
      "# The `type` function\n",
      "my_int = 1\n",
      "my_str = 'a'\n",
      "my_float = 1.5\n",
      "\n",
      "print \"Type of my_int is \", type(my_int)\n",
      "print \"Type of my_str is \", type(my_str)\n",
      "print \"Type of my_float is \", type(my_float)"
     ],
     "language": "python",
     "metadata": {},
     "outputs": [
      {
       "output_type": "stream",
       "stream": "stdout",
       "text": [
        "Type of my_int is  <type 'int'>\n",
        "Type of my_str is  <type 'str'>\n",
        "Type of my_float is  <type 'float'>\n"
       ]
      }
     ],
     "prompt_number": 8
    },
    {
     "cell_type": "code",
     "collapsed": true,
     "input": [
      "a = 1\n",
      "type(a)"
     ],
     "language": "python",
     "metadata": {},
     "outputs": []
    },
    {
     "cell_type": "code",
     "collapsed": true,
     "input": [
      "a = 'hello'\n",
      "type(a)"
     ],
     "language": "python",
     "metadata": {},
     "outputs": []
    },
    {
     "cell_type": "code",
     "collapsed": true,
     "input": [
      "print \"a is now \", a"
     ],
     "language": "python",
     "metadata": {},
     "outputs": []
    },
    {
     "cell_type": "code",
     "collapsed": true,
     "input": [
      "# Basic Types\n",
      "# variable_name = value\n",
      "\n",
      "no_of_chocolates_per_day = 1\n",
      "fav_color = \"green\"\n",
      "\n",
      "print \"Type of `no_of_chocolates_per_day` is \", type(no_of_chocolates_per_day)\n",
      "print \"Type of `fav_color` is \", type(fav_color)"
     ],
     "language": "python",
     "metadata": {},
     "outputs": [
      {
       "output_type": "stream",
       "stream": "stdout",
       "text": [
        "Type of `no_of_chocolates_per_day` is  <type 'int'>\n",
        "Type of `fav_color` is  <type 'str'>\n"
       ]
      }
     ],
     "prompt_number": 1
    },
    {
     "cell_type": "code",
     "collapsed": true,
     "input": [
      "super(int)"
     ],
     "language": "python",
     "metadata": {},
     "outputs": []
    },
    {
     "cell_type": "code",
     "collapsed": true,
     "input": [
      "# String Operations\n",
      "\n",
      "s = \"Lorem Ipsum is a placeholder text    \"\n",
      "print \"lowercase: \", s.lower()\n",
      "print \"uppercase: \", s.upper()\n",
      "print \"capitalized: \", s.capitalize()\n",
      "print \"Strip Spaces: \", s.strip()\n",
      "\n",
      "print \"replace text with string:\", s.replace('text','string')\n",
      "\n",
      "words = s.split(' ')\n",
      "print \"Type of words variable is\", type(words)\n",
      "print \"\"\n",
      "for word in words:\n",
      "    if word == 'is':\n",
      "        print \"Found `is`\"\n",
      "\n",
      "# Split String\n",
      "some_data = \"john,doe,23,john@example.com\"\n",
      "data_list = some_data.split(',')\n",
      "print data_list[1]\n",
      "    "
     ],
     "language": "python",
     "metadata": {},
     "outputs": [
      {
       "output_type": "stream",
       "stream": "stdout",
       "text": [
        " lowercase:  lorem ipsum is a placeholder text    \n",
        "uppercase:  LOREM IPSUM IS A PLACEHOLDER TEXT    \n",
        "capitalized:  Lorem ipsum is a placeholder text    \n",
        "Strip Spaces:  Lorem Ipsum is a placeholder text\n",
        "replace text with string: Lorem Ipsum is a placeholder string    \n",
        "Type of words variable is <type 'list'>\n",
        "\n",
        "Found `is`\n",
        "doe\n"
       ]
      }
     ],
     "prompt_number": 15
    },
    {
     "cell_type": "code",
     "collapsed": false,
     "input": [
      "# String is an array of characters\n",
      "\n",
      "print s[-12:]"
     ],
     "language": "python",
     "metadata": {},
     "outputs": [
      {
       "output_type": "stream",
       "stream": "stdout",
       "text": [
        "der text    \n"
       ]
      }
     ],
     "prompt_number": 25
    },
    {
     "cell_type": "code",
     "collapsed": true,
     "input": [
      "# The List Type\n",
      "# Think of it as an Arrary in C\n",
      "a = [1, 2 ,3]\n",
      "\n",
      "print type(a)"
     ],
     "language": "python",
     "metadata": {},
     "outputs": []
    },
    {
     "cell_type": "code",
     "collapsed": true,
     "input": [
      "# The Set Type\n",
      "# Array without duplicates\n",
      "a = {1, 2, 3}\n",
      "print type(a)"
     ],
     "language": "python",
     "metadata": {},
     "outputs": []
    },
    {
     "cell_type": "code",
     "collapsed": true,
     "input": [
      "# Key Value Pairs. Keys are always unique\n",
      "a = {'ram': 23, 'john': '24'}\n",
      "print a\n",
      "print \"Correcting Ram's Age\"\n",
      "a['ram'] = 19\n",
      "print a\n",
      "print \"Setting age of sita\"\n",
      "a['sita'] = 23\n",
      "print a\n",
      "type(a)"
     ],
     "language": "python",
     "metadata": {},
     "outputs": [
      {
       "output_type": "stream",
       "stream": "stdout",
       "text": [
        "{'john': '24', 'ram': 23}\n",
        "Correcting Ram's Age\n",
        "{'john': '24', 'ram': 19}\n",
        "Setting age of sita\n",
        "{'john': '24', 'ram': 19, 'sita': 23}\n"
       ]
      },
      {
       "metadata": {},
       "output_type": "pyout",
       "prompt_number": 26,
       "text": [
        "dict"
       ]
      }
     ],
     "prompt_number": 26
    },
    {
     "cell_type": "code",
     "collapsed": true,
     "input": [
      "a.get('john')"
     ],
     "language": "python",
     "metadata": {},
     "outputs": [
      {
       "metadata": {},
       "output_type": "pyout",
       "prompt_number": 27,
       "text": [
        "'24'"
       ]
      }
     ],
     "prompt_number": 27
    },
    {
     "cell_type": "code",
     "collapsed": true,
     "input": [
      "a.get('hitesh')\n",
      "a.get('hitesh', False)\n",
      "# a['hitesh']"
     ],
     "language": "python",
     "metadata": {},
     "outputs": [
      {
       "metadata": {},
       "output_type": "pyout",
       "prompt_number": 32,
       "text": [
        "False"
       ]
      }
     ],
     "prompt_number": 32
    },
    {
     "cell_type": "code",
     "collapsed": true,
     "input": [
      "# Tuples\n",
      "# Pairs of Elements\n",
      "\n",
      "#   name, age, semester\n",
      "a = ('Rahul','23','4')\n",
      "print a[0]\n",
      "print a[1]\n",
      "\n"
     ],
     "language": "python",
     "metadata": {},
     "outputs": []
    },
    {
     "cell_type": "code",
     "collapsed": true,
     "input": [
      "# Tuples can also be put inside of lists\n",
      "# i.e. a list of tupes\n",
      "\n",
      "students = [ ('Rahul', 23, 4), ('John',22, 3) ]\n",
      "\n",
      "# First Element in List students\n",
      "print students[0]\n",
      "# First elemet from first tuple in list students\n",
      "print students[0][0]\n"
     ],
     "language": "python",
     "metadata": {},
     "outputs": []
    },
    {
     "cell_type": "code",
     "collapsed": true,
     "input": [
      "# Functions\n",
      "\n",
      "def hello():\n",
      "    print \"I am going to just say hello\"\n",
      "\n",
      "hello()"
     ],
     "language": "python",
     "metadata": {},
     "outputs": []
    },
    {
     "cell_type": "code",
     "collapsed": true,
     "input": [
      "\"\"\"\n",
      "# def function_name(args):\n",
      "    function body\n",
      "    \n",
      "    <return optional>\n",
      "\"\"\"\n",
      "def hello_by_name(hello_name):\n",
      "    print \"Hey\", hello_name, \"Welcome to Python2\"\n",
      "    \n",
      "hello_by_name('Hitesh')"
     ],
     "language": "python",
     "metadata": {},
     "outputs": []
    },
    {
     "cell_type": "code",
     "collapsed": true,
     "input": [
      "hello_by_name"
     ],
     "language": "python",
     "metadata": {},
     "outputs": []
    },
    {
     "cell_type": "code",
     "collapsed": true,
     "input": [
      "hello_by_name(22)"
     ],
     "language": "python",
     "metadata": {},
     "outputs": []
    },
    {
     "cell_type": "code",
     "collapsed": true,
     "input": [
      "# Function with default values for arguments\n",
      "def make_string_short(some_string, length=5):\n",
      "    short_string = some_string[:length]\n",
      "    return short_string\n",
      "\n",
      "print make_string_short('wordpress')\n",
      "print make_string_short('wordpress', 4)\n",
      "\n",
      "\n"
     ],
     "language": "python",
     "metadata": {},
     "outputs": []
    },
    {
     "cell_type": "code",
     "collapsed": true,
     "input": [
      "# Classes\n",
      "# Lets use a shell prompt\n",
      "# Run python script as `python script_name.py`\n",
      "\n",
      "class Car:\n",
      "    \n",
      "    def __init__(self, name, color):\n",
      "        self.name = name\n",
      "        self.color = color\n",
      "\n",
      "my_car = Car('Honda Jazz','Black')\n",
      "print \"My \", my_car.name, my_car.color"
     ],
     "language": "python",
     "metadata": {},
     "outputs": []
    },
    {
     "cell_type": "code",
     "collapsed": true,
     "input": [
      "\n",
      "class Car:\n",
      "    \n",
      "    def __init__(self, name, color, top_speed=60):\n",
      "        self.name = name\n",
      "        self.color = color\n",
      "        self.top_speed = top_speed\n",
      "        self.current_speed = 0\n",
      "        \n",
      "    def accelerate(self):\n",
      "        if self.current_speed > self.top_speed:\n",
      "            print \"You need to slow down\"\n",
      "        else:\n",
      "            self.current_speed = self.current_speed + 15\n",
      "            print \"You are now travelling at\", self.current_speed, \"Kmph\"\n",
      "\n",
      "my_car = Car('Maruti 800','While')\n",
      "\n",
      "my_car.accelerate()\n",
      "my_car.accelerate()\n",
      "my_car.accelerate()\n",
      "my_car.accelerate()\n",
      "my_car.accelerate()\n",
      "\n",
      "my_car.accelerate()\n",
      "my_car.accelerate()"
     ],
     "language": "python",
     "metadata": {},
     "outputs": []
    },
    {
     "cell_type": "code",
     "collapsed": true,
     "input": [
      "\n",
      "class Car:\n",
      "    \n",
      "    def __init__(self, name, color, top_speed=60):\n",
      "        self.name = name\n",
      "        self.color = color\n",
      "        self.top_speed = top_speed\n",
      "        self.current_speed = 0\n",
      "        \n",
      "    def check_speedometer(self):\n",
      "        margin = self.top_speed - self.current_speed\n",
      "        if margin > 0:\n",
      "            print \"You can go %s Kmph Faster\" % margin\n",
      "        else:\n",
      "            print \"Look at the road\"\n",
      "        \n",
      "    def accelerate(self):\n",
      "        if self.current_speed > self.top_speed:\n",
      "            print \"You need to slow down\"\n",
      "        else:\n",
      "            self.current_speed = self.current_speed + 15\n",
      "            print \"You are now travelling at\", self.current_speed, \"Kmph\"\n",
      "\n",
      "my_car = Car('Maruti 800','While')\n",
      "\n",
      "my_car.accelerate()\n",
      "my_car.accelerate()\n",
      "my_car.accelerate()\n",
      "my_car.check_speedometer()\n",
      "my_car.accelerate()\n",
      "my_car.accelerate()\n",
      "my_car.check_speedometer()\n",
      "my_car.accelerate()\n",
      "my_car.accelerate()"
     ],
     "language": "python",
     "metadata": {},
     "outputs": []
    },
    {
     "cell_type": "code",
     "collapsed": true,
     "input": [
      "\n",
      "class Car:\n",
      "    \n",
      "    def __init__(self, name, color, top_speed=60):\n",
      "        self.name = name\n",
      "        self.color = color\n",
      "        self.top_speed = top_speed\n",
      "        self.current_speed = 0\n",
      "        \n",
      "    def check_speedometer(self):\n",
      "        margin = self.top_speed - self.current_speed\n",
      "        if margin > 0:\n",
      "            print \"%s can go %s Kmph Faster\" % (self.name, margin)\n",
      "        else:\n",
      "            print \"Look at the road %s\" % self.name\n",
      "        \n",
      "    def accelerate(self):\n",
      "        if self.current_speed > self.top_speed:\n",
      "            print \"%s needs to slow down\" % self.name\n",
      "        else:\n",
      "            self.current_speed = self.current_speed + 15\n",
      "            print \"%s is now travelling at %s Kmph\" % (self.name, self.current_speed)\n",
      "\n",
      "car1 = Car('Maruti 800','White')\n",
      "car2 = Car('Maruti Swift','Red', 70)\n",
      "car3 = Car('Honda City','Black', 120)\n",
      "\n",
      "car1.accelerate()\n",
      "car2.accelerate()\n",
      "car3.accelerate()\n",
      "car2.check_speedometer()\n",
      "car3.accelerate()\n",
      "car2.accelerate()\n",
      "car3.check_speedometer()\n",
      "car1.accelerate()\n",
      "car1.accelerate()\n",
      "car1.accelerate()\n",
      "car2.accelerate()\n",
      "car3.accelerate()\n",
      "car2.check_speedometer()\n",
      "car3.accelerate()\n",
      "car2.accelerate()\n",
      "car2.check_speedometer()\n",
      "car1.accelerate()\n",
      "car1.accelerate()"
     ],
     "language": "python",
     "metadata": {},
     "outputs": []
    },
    {
     "cell_type": "code",
     "collapsed": true,
     "input": [
      "# Lets see the same using Modules\n",
      "\n",
      "# Move to the terminal\n"
     ],
     "language": "python",
     "metadata": {},
     "outputs": []
    },
    {
     "cell_type": "code",
     "collapsed": false,
     "input": [
      "# File Operations\n",
      "\n",
      "# Modes \n",
      "# 'r' - Read\n",
      "# 'w' - Write\n",
      "# 'a' - Append\n",
      "# 'wb' - Write Binary\n",
      "\n",
      "file_handle = open('test.dat','w')\n",
      "file_handle.write(\"Hello Python File Operations\\n\")\n",
      "file_handle.write(\"From Goa University\")\n",
      "file_handle.flush()\n",
      "\n",
      "file_handle_read = open('test.dat','r')\n",
      "print file_handle_read.read()\n",
      "file_handle_read.seek(0)\n",
      "print  file_handle_read.readlines()\n"
     ],
     "language": "python",
     "metadata": {},
     "outputs": [
      {
       "output_type": "stream",
       "stream": "stdout",
       "text": [
        "Hello Python File OperationsFrom Goa University\n",
        "['Hello Python File OperationsFrom Goa University']\n"
       ]
      }
     ],
     "prompt_number": 40
    },
    {
     "cell_type": "code",
     "collapsed": false,
     "input": [
      "\n",
      "# Generators\n",
      "# Useful when you cant store all the data in memory. Eg: Large Files\n",
      "\n",
      "open('large_data','r')\n"
     ],
     "language": "python",
     "metadata": {},
     "outputs": []
    }
   ],
   "metadata": {}
  }
 ]
}