{
 "cells": [
  {
   "cell_type": "code",
   "execution_count": 35,
   "metadata": {
    "collapsed": false
   },
   "outputs": [
    {
     "name": "stdout",
     "output_type": "stream",
     "text": [
      "Hello World!\n"
     ]
    }
   ],
   "source": [
    "print \"Hello World!\""
   ]
  },
  {
   "cell_type": "code",
   "execution_count": null,
   "metadata": {
    "collapsed": false
   },
   "outputs": [],
   "source": [
    "print \"Hello\", \"World\", \"with\", \"spaces\""
   ]
  },
  {
   "cell_type": "code",
   "execution_count": null,
   "metadata": {
    "collapsed": true
   },
   "outputs": [],
   "source": [
    "language = \"Python 2\"\n",
    "location = \"Goa University\"\n",
    "duration = \"40\"\n",
    "print \"Welcome to the %s workshop at %s\" % (language, location)\n",
    "print \"This workshop will last %s minutes\" % (duration,)\n",
    "\n",
    "print \"Enough of printing\", language\n"
   ]
  },
  {
   "cell_type": "code",
   "execution_count": null,
   "metadata": {
    "collapsed": true
   },
   "outputs": [],
   "source": [
    "# The `type` function\n",
    "my_int = 1\n",
    "my_str = 'a'\n",
    "my_float = 1.5\n",
    "\n",
    "print \"Type of my_int is \", type(my_int)\n",
    "print \"Type of my_str is \", type(my_str)\n",
    "print \"Type of my_float is \", type(my_float)"
   ]
  },
  {
   "cell_type": "code",
   "execution_count": null,
   "metadata": {
    "collapsed": true
   },
   "outputs": [],
   "source": [
    "a = 1\n",
    "type(a)"
   ]
  },
  {
   "cell_type": "code",
   "execution_count": null,
   "metadata": {
    "collapsed": true
   },
   "outputs": [],
   "source": [
    "a = 'hello'\n",
    "type(a)"
   ]
  },
  {
   "cell_type": "code",
   "execution_count": null,
   "metadata": {
    "collapsed": true
   },
   "outputs": [],
   "source": [
    "print \"a is now \", a"
   ]
  },
  {
   "cell_type": "code",
   "execution_count": null,
   "metadata": {
    "collapsed": true
   },
   "outputs": [],
   "source": [
    "# Basic Types\n",
    "# variable_name = value\n",
    "\n",
    "no_of_chocolates_per_day = 1\n",
    "fav_color = \"green\"\n",
    "\n",
    "print \"Type of `no_of_chocolates_per_day` is \", type(no_of_chocolates_per_day)\n",
    "print \"Type of `fav_color` is \", type(fav_color)"
   ]
  },
  {
   "cell_type": "code",
   "execution_count": null,
   "metadata": {
    "collapsed": true
   },
   "outputs": [],
   "source": [
    "super(int)"
   ]
  },
  {
   "cell_type": "code",
   "execution_count": null,
   "metadata": {
    "collapsed": true
   },
   "outputs": [],
   "source": [
    "# String Operations\n",
    "\n",
    "s = \"Lorem Ipsum is a placeholder text    \"\n",
    "print \"lowercase: \", s.lower()\n",
    "print \"uppercase: \", s.upper()\n",
    "print \"capitalized: \", s.capitalize()\n",
    "print \"Strip Spaces: \", s.strip()\n",
    "\n",
    "print \"replace text with string:\", s.replace('text','string')\n",
    "\n",
    "words = s.split(' ')\n",
    "print \"Type of words variable is\", type(words)\n",
    "print \"\"\n",
    "for word in words:\n",
    "    if word == 'is':\n",
    "        print \"Found `is`\"\n",
    "\n",
    "# Split String\n",
    "some_data = \"john,doe,23,john@example.com\"\n",
    "data_list = some_data.split(',')\n",
    "print data_list[1]\n",
    "    "
   ]
  },
  {
   "cell_type": "code",
   "execution_count": null,
   "metadata": {
    "collapsed": false
   },
   "outputs": [],
   "source": [
    "# String is an array of characters\n",
    "\n",
    "print s[-12:]"
   ]
  },
  {
   "cell_type": "code",
   "execution_count": null,
   "metadata": {
    "collapsed": true
   },
   "outputs": [],
   "source": [
    "# The List Type\n",
    "# Think of it as an Arrary in C\n",
    "a = [1, 2 ,3]\n",
    "\n",
    "print type(a)"
   ]
  },
  {
   "cell_type": "code",
   "execution_count": null,
   "metadata": {
    "collapsed": false
   },
   "outputs": [],
   "source": [
    "# The Set Type\n",
    "# Array without duplicates\n",
    "a = {1, 2, 3}\n",
    "print type(a)\n",
    "\n",
    "# Do all the operations for math based sets\n",
    "\n",
    "a = {1, 2, 3}\n",
    "b = {3, 4, 5}\n",
    "a.union(b)\n",
    "a.intersection(b)\n",
    "a - b\n",
    "c = {2,3}\n",
    "c.issubset(a)"
   ]
  },
  {
   "cell_type": "code",
   "execution_count": null,
   "metadata": {
    "collapsed": true
   },
   "outputs": [],
   "source": [
    "# Key Value Pairs. Keys are always unique\n",
    "a = {'ram': 23, 'john': '24'}\n",
    "print a\n",
    "print \"Correcting Ram's Age\"\n",
    "a['ram'] = 19\n",
    "print a\n",
    "print \"Setting age of sita\"\n",
    "a['sita'] = 23\n",
    "print a\n",
    "type(a)"
   ]
  },
  {
   "cell_type": "code",
   "execution_count": null,
   "metadata": {
    "collapsed": true
   },
   "outputs": [],
   "source": [
    "a.get('john')"
   ]
  },
  {
   "cell_type": "code",
   "execution_count": null,
   "metadata": {
    "collapsed": true
   },
   "outputs": [],
   "source": [
    "a.get('hitesh')\n",
    "a.get('hitesh', False)\n",
    "# a['hitesh']"
   ]
  },
  {
   "cell_type": "code",
   "execution_count": null,
   "metadata": {
    "collapsed": true
   },
   "outputs": [],
   "source": [
    "# Tuples\n",
    "# Pairs of Elements\n",
    "\n",
    "#   name, age, semester\n",
    "a = ('Rahul','23','4')\n",
    "print a[0]\n",
    "print a[1]\n",
    "\n"
   ]
  },
  {
   "cell_type": "code",
   "execution_count": null,
   "metadata": {
    "collapsed": true
   },
   "outputs": [],
   "source": [
    "# Tuples can also be put inside of lists\n",
    "# i.e. a list of tupes\n",
    "\n",
    "students = [ ('Rahul', 23, 4), ('John',22, 3) ]\n",
    "\n",
    "# First Element in List students\n",
    "print students[0]\n",
    "# First elemet from first tuple in list students\n",
    "print students[0][0]\n"
   ]
  },
  {
   "cell_type": "code",
   "execution_count": null,
   "metadata": {
    "collapsed": true
   },
   "outputs": [],
   "source": [
    "# Functions\n",
    "\n",
    "def hello():\n",
    "    print \"I am going to just say hello\"\n",
    "\n",
    "hello()"
   ]
  },
  {
   "cell_type": "code",
   "execution_count": null,
   "metadata": {
    "collapsed": true
   },
   "outputs": [],
   "source": [
    "\"\"\"\n",
    "# def function_name(args):\n",
    "    function body\n",
    "    \n",
    "    <return optional>\n",
    "\"\"\"\n",
    "def hello_by_name(hello_name):\n",
    "    print \"Hey\", hello_name, \"Welcome to Python2\"\n",
    "    \n",
    "hello_by_name('Hitesh')"
   ]
  },
  {
   "cell_type": "code",
   "execution_count": null,
   "metadata": {
    "collapsed": true
   },
   "outputs": [],
   "source": [
    "hello_by_name"
   ]
  },
  {
   "cell_type": "code",
   "execution_count": null,
   "metadata": {
    "collapsed": true
   },
   "outputs": [],
   "source": [
    "hello_by_name(22)"
   ]
  },
  {
   "cell_type": "code",
   "execution_count": null,
   "metadata": {
    "collapsed": true
   },
   "outputs": [],
   "source": [
    "# Function with default values for arguments\n",
    "def make_string_short(some_string, length=5):\n",
    "    short_string = some_string[:length]\n",
    "    return short_string\n",
    "\n",
    "print make_string_short('wordpress')\n",
    "print make_string_short('wordpress', 4)\n",
    "\n",
    "\n"
   ]
  },
  {
   "cell_type": "code",
   "execution_count": null,
   "metadata": {
    "collapsed": true
   },
   "outputs": [],
   "source": [
    "# Classes\n",
    "# Lets use a shell prompt\n",
    "# Run python script as `python script_name.py`\n",
    "\n",
    "class Car:\n",
    "    \n",
    "    def __init__(self, name, color):\n",
    "        self.name = name\n",
    "        self.color = color\n",
    "\n",
    "my_car = Car('Honda Jazz','Black')\n",
    "print \"My \", my_car.name, my_car.color"
   ]
  },
  {
   "cell_type": "code",
   "execution_count": null,
   "metadata": {
    "collapsed": true
   },
   "outputs": [],
   "source": [
    "\n",
    "class Car:\n",
    "    \n",
    "    def __init__(self, name, color, top_speed=60):\n",
    "        self.name = name\n",
    "        self.color = color\n",
    "        self.top_speed = top_speed\n",
    "        self.current_speed = 0\n",
    "        \n",
    "    def accelerate(self):\n",
    "        if self.current_speed > self.top_speed:\n",
    "            print \"You need to slow down\"\n",
    "        else:\n",
    "            self.current_speed = self.current_speed + 15\n",
    "            print \"You are now travelling at\", self.current_speed, \"Kmph\"\n",
    "\n",
    "my_car = Car('Maruti 800','While')\n",
    "\n",
    "my_car.accelerate()\n",
    "my_car.accelerate()\n",
    "my_car.accelerate()\n",
    "my_car.accelerate()\n",
    "my_car.accelerate()\n",
    "\n",
    "my_car.accelerate()\n",
    "my_car.accelerate()"
   ]
  },
  {
   "cell_type": "code",
   "execution_count": null,
   "metadata": {
    "collapsed": true
   },
   "outputs": [],
   "source": [
    "\n",
    "class Car:\n",
    "    \n",
    "    def __init__(self, name, color, top_speed=60):\n",
    "        self.name = name\n",
    "        self.color = color\n",
    "        self.top_speed = top_speed\n",
    "        self.current_speed = 0\n",
    "        \n",
    "    def check_speedometer(self):\n",
    "        margin = self.top_speed - self.current_speed\n",
    "        if margin > 0:\n",
    "            print \"You can go %s Kmph Faster\" % margin\n",
    "        else:\n",
    "            print \"Look at the road\"\n",
    "        \n",
    "    def accelerate(self):\n",
    "        if self.current_speed > self.top_speed:\n",
    "            print \"You need to slow down\"\n",
    "        else:\n",
    "            self.current_speed = self.current_speed + 15\n",
    "            print \"You are now travelling at\", self.current_speed, \"Kmph\"\n",
    "\n",
    "my_car = Car('Maruti 800','While')\n",
    "\n",
    "my_car.accelerate()\n",
    "my_car.accelerate()\n",
    "my_car.accelerate()\n",
    "my_car.check_speedometer()\n",
    "my_car.accelerate()\n",
    "my_car.accelerate()\n",
    "my_car.check_speedometer()\n",
    "my_car.accelerate()\n",
    "my_car.accelerate()"
   ]
  },
  {
   "cell_type": "code",
   "execution_count": null,
   "metadata": {
    "collapsed": true
   },
   "outputs": [],
   "source": [
    "\n",
    "class Car:\n",
    "    \n",
    "    def __init__(self, name, color, top_speed=60):\n",
    "        self.name = name\n",
    "        self.color = color\n",
    "        self.top_speed = top_speed\n",
    "        self.current_speed = 0\n",
    "        \n",
    "    def check_speedometer(self):\n",
    "        margin = self.top_speed - self.current_speed\n",
    "        if margin > 0:\n",
    "            print \"%s can go %s Kmph Faster\" % (self.name, margin)\n",
    "        else:\n",
    "            print \"Look at the road %s\" % self.name\n",
    "        \n",
    "    def accelerate(self):\n",
    "        if self.current_speed > self.top_speed:\n",
    "            print \"%s needs to slow down\" % self.name\n",
    "        else:\n",
    "            self.current_speed = self.current_speed + 15\n",
    "            print \"%s is now travelling at %s Kmph\" % (self.name, self.current_speed)\n",
    "\n",
    "car1 = Car('Maruti 800','White')\n",
    "car2 = Car('Maruti Swift','Red', 70)\n",
    "car3 = Car('Honda City','Black', 120)\n",
    "\n",
    "car1.accelerate()\n",
    "car2.accelerate()\n",
    "car3.accelerate()\n",
    "car2.check_speedometer()\n",
    "car3.accelerate()\n",
    "car2.accelerate()\n",
    "car3.check_speedometer()\n",
    "car1.accelerate()\n",
    "car1.accelerate()\n",
    "car1.accelerate()\n",
    "car2.accelerate()\n",
    "car3.accelerate()\n",
    "car2.check_speedometer()\n",
    "car3.accelerate()\n",
    "car2.accelerate()\n",
    "car2.check_speedometer()\n",
    "car1.accelerate()\n",
    "car1.accelerate()"
   ]
  },
  {
   "cell_type": "code",
   "execution_count": null,
   "metadata": {
    "collapsed": true
   },
   "outputs": [],
   "source": [
    "# Lets see the same using Modules\n",
    "\n",
    "# Move to the terminal\n"
   ]
  },
  {
   "cell_type": "code",
   "execution_count": null,
   "metadata": {
    "collapsed": false
   },
   "outputs": [],
   "source": [
    "# File Operations\n",
    "\n",
    "# Modes \n",
    "# 'r' - Read\n",
    "# 'w' - Write\n",
    "# 'a' - Append\n",
    "# 'wb' - Write Binary\n",
    "\n",
    "file_handle = open('test.dat','w')\n",
    "file_handle.write(\"Hello Python File Operations\")\n",
    "file_handle.write(\"\\n\")\n",
    "file_handle.write(\"From Goa University\")\n",
    "file_handle.flush()\n",
    "\n",
    "file_handle_read = open('test.dat','r')\n",
    "print file_handle_read.read()\n",
    "file_handle_read.seek(0)\n",
    "print  file_handle_read.readlines()\n"
   ]
  },
  {
   "cell_type": "code",
   "execution_count": null,
   "metadata": {
    "collapsed": false
   },
   "outputs": [],
   "source": [
    "\n",
    "# Generators\n",
    "# Useful when you cant store all the data in memory. Eg: Large Files\n",
    "\n",
    "large_handle = open('large_data.dat','r')\n",
    "for line in large_handle:\n",
    "    print line\n"
   ]
  },
  {
   "cell_type": "code",
   "execution_count": null,
   "metadata": {
    "collapsed": false
   },
   "outputs": [],
   "source": [
    "# Custom Generators with yield\n",
    "\n",
    "def no_like_lorem(file_name):\n",
    "    \"\"\"\n",
    "    Returns the line from a file only when the word lorem is absent\n",
    "    \"\"\"\n",
    "    file_handle = open(file_name)\n",
    "    for data in file_handle:\n",
    "        if 'lorem' not in data:\n",
    "            yield data\n",
    "            \n",
    "lines = no_like_lorem('large_data.dat')\n",
    "\n",
    "print lines\n",
    "\n",
    "for line in lines:\n",
    "    print line"
   ]
  },
  {
   "cell_type": "code",
   "execution_count": null,
   "metadata": {
    "collapsed": false
   },
   "outputs": [],
   "source": [
    "from module_examples.car_example import car"
   ]
  },
  {
   "cell_type": "code",
   "execution_count": null,
   "metadata": {
    "collapsed": false
   },
   "outputs": [],
   "source": [
    "c = car.Car('City', 'Grey')"
   ]
  },
  {
   "cell_type": "code",
   "execution_count": null,
   "metadata": {
    "collapsed": false
   },
   "outputs": [],
   "source": [
    "c.accelerate()"
   ]
  },
  {
   "cell_type": "code",
   "execution_count": null,
   "metadata": {
    "collapsed": false
   },
   "outputs": [],
   "source": [
    "ls"
   ]
  },
  {
   "cell_type": "code",
   "execution_count": null,
   "metadata": {
    "collapsed": true
   },
   "outputs": [],
   "source": [
    "import guess_the_number_modular\n"
   ]
  },
  {
   "cell_type": "code",
   "execution_count": null,
   "metadata": {
    "collapsed": true
   },
   "outputs": [],
   "source": [
    "ng = guess_the_number_modular.NumberGuessing()"
   ]
  },
  {
   "cell_type": "code",
   "execution_count": null,
   "metadata": {
    "collapsed": false
   },
   "outputs": [],
   "source": [
    "ng.check_guess(1000)"
   ]
  },
  {
   "cell_type": "code",
   "execution_count": null,
   "metadata": {
    "collapsed": false
   },
   "outputs": [],
   "source": [
    "ng.check_guess(1300)"
   ]
  },
  {
   "cell_type": "code",
   "execution_count": null,
   "metadata": {
    "collapsed": false
   },
   "outputs": [],
   "source": [
    "ng.check_guess(700)"
   ]
  },
  {
   "cell_type": "code",
   "execution_count": null,
   "metadata": {
    "collapsed": false
   },
   "outputs": [],
   "source": [
    "ng.check_guess(500)"
   ]
  },
  {
   "cell_type": "code",
   "execution_count": null,
   "metadata": {
    "collapsed": false
   },
   "outputs": [],
   "source": [
    "ng.check_guess(600)"
   ]
  },
  {
   "cell_type": "code",
   "execution_count": null,
   "metadata": {
    "collapsed": false
   },
   "outputs": [],
   "source": [
    "ng.check_guess(680)"
   ]
  },
  {
   "cell_type": "code",
   "execution_count": null,
   "metadata": {
    "collapsed": false
   },
   "outputs": [],
   "source": [
    "ng.check_guess(720)"
   ]
  },
  {
   "cell_type": "code",
   "execution_count": null,
   "metadata": {
    "collapsed": false
   },
   "outputs": [],
   "source": [
    "ng.check_guess(780)"
   ]
  },
  {
   "cell_type": "code",
   "execution_count": null,
   "metadata": {
    "collapsed": false
   },
   "outputs": [],
   "source": [
    "reload(guess_the_number_modular)"
   ]
  },
  {
   "cell_type": "code",
   "execution_count": null,
   "metadata": {
    "collapsed": false
   },
   "outputs": [],
   "source": [
    "ng.check_guess(780)"
   ]
  },
  {
   "cell_type": "code",
   "execution_count": null,
   "metadata": {
    "collapsed": true
   },
   "outputs": [],
   "source": []
  },
  {
   "cell_type": "code",
   "execution_count": null,
   "metadata": {
    "collapsed": false
   },
   "outputs": [],
   "source": [
    "ng.check_guess(780)"
   ]
  },
  {
   "cell_type": "code",
   "execution_count": null,
   "metadata": {
    "collapsed": true
   },
   "outputs": [],
   "source": []
  }
 ],
 "metadata": {
  "kernelspec": {
   "display_name": "Python 2",
   "language": "python",
   "name": "python2"
  },
  "language_info": {
   "codemirror_mode": {
    "name": "ipython",
    "version": 2
   },
   "file_extension": ".py",
   "mimetype": "text/x-python",
   "name": "python",
   "nbconvert_exporter": "python",
   "pygments_lexer": "ipython2",
   "version": "2.7.10"
  }
 },
 "nbformat": 4,
 "nbformat_minor": 0
}
